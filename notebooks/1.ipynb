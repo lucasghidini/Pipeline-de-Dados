{
 "cells": [
  {
   "cell_type": "markdown",
   "id": "51e7486e",
   "metadata": {},
   "source": [
    "### Criação de uma pipeline de dados, para analisar dados de duas empresas que fizeram uma fusão.\n",
    "- Vamos pegar de uma fonte dados de duas empresas, um aquivo esta em json e o outro em csv\n",
    "- A idéia é extrair e ler os dados corretamentes e juntar os dois"
   ]
  },
  {
   "cell_type": "markdown",
   "id": "f42d0745",
   "metadata": {},
   "source": [
    "Nesse notebook vamos fazer primeiro testes para apos criar o script da pipeline.\n"
   ]
  },
  {
   "cell_type": "code",
   "execution_count": 19,
   "id": "326678b6",
   "metadata": {},
   "outputs": [],
   "source": [
    "import json\n",
    "import csv"
   ]
  }
 ],
 "metadata": {
  "kernelspec": {
   "display_name": "Python 3",
   "language": "python",
   "name": "python3"
  },
  "language_info": {
   "codemirror_mode": {
    "name": "ipython",
    "version": 3
   },
   "file_extension": ".py",
   "mimetype": "text/x-python",
   "name": "python",
   "nbconvert_exporter": "python",
   "pygments_lexer": "ipython3",
   "version": "3.13.3"
  }
 },
 "nbformat": 4,
 "nbformat_minor": 5
}
