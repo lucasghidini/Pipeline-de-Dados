{
 "cells": [
  {
   "cell_type": "markdown",
   "id": "51e7486e",
   "metadata": {},
   "source": [
    "### Criação de uma pipeline de dados, para analisar dados de duas empresas que fizeram uma fusão.\n",
    "- Vamos pegar de uma fonte dados de duas empresas, um aquivo esta em json e o outro em csv\n",
    "- A idéia é extrair e ler os dados corretamentes e juntar os dois"
   ]
  },
  {
   "cell_type": "markdown",
   "id": "f42d0745",
   "metadata": {},
   "source": [
    "Nesse notebook vamos fazer primeiro testes para apos criar o script da pipeline.\n"
   ]
  },
  {
   "cell_type": "code",
   "execution_count": 19,
   "id": "326678b6",
   "metadata": {},
   "outputs": [],
   "source": [
    "import json\n",
    "import csv"
   ]
  },
  {
   "cell_type": "code",
   "execution_count": 62,
   "id": "246c0583",
   "metadata": {},
   "outputs": [
    {
     "data": {
      "text/plain": [
       "{'Nome do Produto': 'Lápis de sobrancelha',\n",
       " 'Categoria do Produto': 'Eletrodomésticos',\n",
       " 'Preço do Produto (R$)': 85.47,\n",
       " 'Quantidade em Estoque': 78,\n",
       " 'Filial': 'Filial 8'}"
      ]
     },
     "execution_count": 62,
     "metadata": {},
     "output_type": "execute_result"
    }
   ],
   "source": [
    "# lendo o arquivo .json da empresa A\n",
    "path_json = r'C:\\Users\\Lucas\\Desktop\\Projetos\\pipeline de dados\\data_raw\\dados_empresaA.json'\n",
    "\n",
    "\n",
    "with open(path_json, 'r') as file:\n",
    "    dados_json = json.load(file)\n",
    "\n",
    "dados_json[1] # testando se funcionou "
   ]
  },
  {
   "cell_type": "code",
   "execution_count": 63,
   "id": "b6c46cbb",
   "metadata": {},
   "outputs": [
    {
     "data": {
      "text/plain": [
       "{'Nome do Item': 'LÃ¡pis de sobrancelha',\n",
       " 'ClassificaÃ§Ã£o do Produto': 'Roupas',\n",
       " 'Valor em Reais (R$)': '55.17',\n",
       " 'Quantidade em Estoque': '62',\n",
       " 'Nome da Loja': 'Filial 1',\n",
       " 'Data da Venda': '2023-04-13 18:58:06.794203'}"
      ]
     },
     "execution_count": 63,
     "metadata": {},
     "output_type": "execute_result"
    }
   ],
   "source": [
    "# Lendo o arquivo .csv da empresa B\n",
    "path_csv = r'C:\\Users\\Lucas\\Desktop\\Projetos\\pipeline de dados\\data_raw\\dados_empresaB.csv'\n",
    "\n",
    "dados_csv =[]\n",
    "with open(path_csv, 'r') as file:\n",
    "    spamreader = (csv.DictReader(file, delimiter= ','))\n",
    "    for row in spamreader:\n",
    "        dados_csv.append(row)\n",
    "\n",
    "dados_csv[0] # testando se funcionou "
   ]
  }
 ],
 "metadata": {
  "kernelspec": {
   "display_name": "Python 3",
   "language": "python",
   "name": "python3"
  },
  "language_info": {
   "codemirror_mode": {
    "name": "ipython",
    "version": 3
   },
   "file_extension": ".py",
   "mimetype": "text/x-python",
   "name": "python",
   "nbconvert_exporter": "python",
   "pygments_lexer": "ipython3",
   "version": "3.13.3"
  }
 },
 "nbformat": 4,
 "nbformat_minor": 5
}
