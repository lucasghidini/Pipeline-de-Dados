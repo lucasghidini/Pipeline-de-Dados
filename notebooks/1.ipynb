{
 "cells": [
  {
   "cell_type": "markdown",
   "id": "51e7486e",
   "metadata": {},
   "source": [
    "### Criação de uma pipeline de dados, para analisar dados de duas empresas que fizeram uma fusão.\n",
    "- Vamos pegar de uma fonte dados de duas empresas, um aquivo esta em json e o outro em csv\n",
    "- A idéia é extrair e ler os dados corretamentes e juntar os dois"
   ]
  },
  {
   "cell_type": "markdown",
   "id": "f42d0745",
   "metadata": {},
   "source": [
    "Nesse notebook vamos fazer primeiro testes para apos criar o script da pipeline.\n"
   ]
  },
  {
   "cell_type": "code",
   "execution_count": 19,
   "id": "326678b6",
   "metadata": {},
   "outputs": [],
   "source": [
    "import json\n",
    "import csv"
   ]
  },
  {
   "cell_type": "code",
   "execution_count": null,
   "id": "246c0583",
   "metadata": {},
   "outputs": [
    {
     "data": {
      "text/plain": [
       "{'Nome do Produto': 'Lápis de sobrancelha',\n",
       " 'Categoria do Produto': 'Eletrodomésticos',\n",
       " 'Preço do Produto (R$)': 85.47,\n",
       " 'Quantidade em Estoque': 78,\n",
       " 'Filial': 'Filial 8'}"
      ]
     },
     "execution_count": 62,
     "metadata": {},
     "output_type": "execute_result"
    }
   ],
   "source": [
    "# lendo o arquivo .json da empresa A\n",
    "path_json = r'C:\\Users\\Lucas\\Desktop\\Projetos\\pipeline de dados\\data_raw\\dados_empresaA.json'\n",
    "\n",
    "\n",
    "with open(path_json, 'r') as file:\n",
    "    dados_json = json.load(file)\n",
    "\n",
    "dados_json[1] # testando se funcionou "
   ]
  },
  {
   "cell_type": "code",
   "execution_count": 63,
   "id": "b6c46cbb",
   "metadata": {},
   "outputs": [
    {
     "data": {
      "text/plain": [
       "{'Nome do Item': 'LÃ¡pis de sobrancelha',\n",
       " 'ClassificaÃ§Ã£o do Produto': 'Roupas',\n",
       " 'Valor em Reais (R$)': '55.17',\n",
       " 'Quantidade em Estoque': '62',\n",
       " 'Nome da Loja': 'Filial 1',\n",
       " 'Data da Venda': '2023-04-13 18:58:06.794203'}"
      ]
     },
     "execution_count": 63,
     "metadata": {},
     "output_type": "execute_result"
    }
   ],
   "source": [
    "# Lendo o arquivo .csv da empresa B\n",
    "path_csv = r'C:\\Users\\Lucas\\Desktop\\Projetos\\pipeline de dados\\data_raw\\dados_empresaB.csv'\n",
    "\n",
    "dados_csv =[]\n",
    "with open(path_csv, 'r') as file:\n",
    "    spamreader = (csv.DictReader(file, delimiter= ','))\n",
    "    for row in spamreader:\n",
    "        dados_csv.append(row)\n",
    "\n",
    "dados_csv[0] # testando se funcionou "
   ]
  },
  {
   "cell_type": "code",
   "execution_count": null,
   "id": "7dac1752",
   "metadata": {},
   "outputs": [
    {
     "data": {
      "text/plain": [
       "{'Nome do Produto': 'LÃ¡pis de sobrancelha',\n",
       " 'Categoria do Produto': 'Roupas',\n",
       " 'Preço do Produto (R$)': '55.17',\n",
       " 'Quantidade em Estoque': '62',\n",
       " 'Filial': 'Filial 1',\n",
       " 'Data da Venda': '2023-04-13 18:58:06.794203'}"
      ]
     },
     "execution_count": 64,
     "metadata": {},
     "output_type": "execute_result"
    }
   ],
   "source": [
    "# Criando um dicionario com os nomes antigos e os novos dos dados csv\n",
    "key_mapping = {'Nome do Item': 'Nome do Produto',\n",
    "                'ClassificaÃ§Ã£o do Produto': 'Categoria do Produto',\n",
    "                'Valor em Reais (R$)': 'Preço do Produto (R$)',\n",
    "                'Quantidade em Estoque': 'Quantidade em Estoque',\n",
    "                'Nome da Loja': 'Filial',\n",
    "                'Data da Venda': 'Data da Venda'}\n",
    "key_mapping\n",
    "\n",
    "new_dados_csv = []\n",
    "\n",
    "for old_dict in dados_csv:\n",
    "    dict_temp = {}\n",
    "    for old_key, value in old_dict.items():\n",
    "        dict_temp[key_mapping[old_key]] = value\n",
    "    new_dados_csv.append(dict_temp)\n",
    "\n",
    "new_dados_csv[0]"
   ]
  },
  {
   "cell_type": "code",
   "execution_count": 68,
   "id": "0a82efff",
   "metadata": {},
   "outputs": [
    {
     "name": "stdout",
     "output_type": "stream",
     "text": [
      "A empresa A tem 3123 dados\n",
      "e a empresa B tem 1323 de dados.\n",
      "O total de dados é 4446\n"
     ]
    }
   ],
   "source": [
    "# contando quantos dados tem cada empresa\n",
    "qnt_empresa_a = len(dados_json)\n",
    "qnt_empresa_b = len(new_dados_csv)\n",
    "\n",
    "print(f'A empresa A tem {qnt_empresa_a} dados\\n' \\\n",
    "    f'e a empresa B tem {qnt_empresa_b} de dados.\\n'\\\n",
    "    f'O total de dados é {qnt_empresa_a + qnt_empresa_b}')\n"
   ]
  },
  {
   "cell_type": "markdown",
   "id": "1c5d7921",
   "metadata": {},
   "source": [
    "Com essas informações podemos partir para a etapa de juntar os dados"
   ]
  },
  {
   "cell_type": "code",
   "execution_count": 69,
   "id": "ffd32560",
   "metadata": {},
   "outputs": [
    {
     "data": {
      "text/plain": [
       "4446"
      ]
     },
     "execution_count": 69,
     "metadata": {},
     "output_type": "execute_result"
    }
   ],
   "source": [
    "combined_list = []\n",
    "combined_list.extend(dados_json)\n",
    "combined_list.extend(new_dados_csv)\n",
    "len(combined_list) # confirmando o total de intens para ver se funcionou a junção"
   ]
  },
  {
   "cell_type": "code",
   "execution_count": 70,
   "id": "8517152e",
   "metadata": {},
   "outputs": [],
   "source": [
    "# mudando o nome das colunas para os 6 itens do arquivo csv\n",
    "nomes_colunas = list(combined_list[-1].keys()) \n",
    "\n",
    "dados_combinado_tabela = [nomes_colunas]\n",
    "\n",
    "for row in combined_list:\n",
    "    linha = []\n",
    "    for coluna in nomes_colunas:\n",
    "        linha.append(row.get(coluna, 'Indisponivel'))\n",
    "    dados_combinado_tabela.append(linha)"
   ]
  },
  {
   "cell_type": "code",
   "execution_count": null,
   "id": "f6a5d01d",
   "metadata": {},
   "outputs": [],
   "source": [
    "# salvando os dados\n",
    "\n",
    "patch_dados_combinados = r'C:\\Users\\Lucas\\Desktop\\Projetos\\pipeline de dados\\data_processed\\dados_combinados.csv'\n",
    "\n",
    "with open(patch_dados_combinados,'w') as file:\n",
    "    writer = csv.writer(file)\n",
    "    writer.writerows(dados_combinado_tabela)"
   ]
  }
 ],
 "metadata": {
  "kernelspec": {
   "display_name": "Python 3",
   "language": "python",
   "name": "python3"
  },
  "language_info": {
   "codemirror_mode": {
    "name": "ipython",
    "version": 3
   },
   "file_extension": ".py",
   "mimetype": "text/x-python",
   "name": "python",
   "nbconvert_exporter": "python",
   "pygments_lexer": "ipython3",
   "version": "3.13.3"
  }
 },
 "nbformat": 4,
 "nbformat_minor": 5
}
